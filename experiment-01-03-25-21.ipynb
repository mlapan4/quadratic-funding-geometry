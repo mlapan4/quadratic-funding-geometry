{
 "cells": [
  {
   "cell_type": "markdown",
   "metadata": {},
   "source": [
    "# Experiment Report\n",
    "\n",
    "---"
   ]
  },
  {
   "cell_type": "markdown",
   "metadata": {},
   "source": [
    "## Project: GC Grants Math WG\n",
    "## Topic: Investigating Optimality Gap\n",
    "## Author: 🐙octopus\n",
    "\n",
    "---"
   ]
  },
  {
   "cell_type": "markdown",
   "metadata": {},
   "source": [
    "### <span style= \"color:red\"> Experiment #1 </span>\n",
    "### Date: March 25, 2021\n",
    "\n",
    "---"
   ]
  },
  {
   "cell_type": "markdown",
   "metadata": {},
   "source": [
    "#### <span style = \"color:blue\"> Question: (what we want to figure out) </span>\n",
    "\n",
    "**Does the OptimalityGap have a bimodal distribution?**"
   ]
  },
  {
   "cell_type": "markdown",
   "metadata": {},
   "source": [
    "#### <span style=\"color:blue\"> Process (what will we do?) </span>"
   ]
  },
  {
   "cell_type": "markdown",
   "metadata": {},
   "source": [
    "1. Assume we have 50 users and 10 grants\n",
    "2. Generate 1000 **trials**. Each **trial** is a (uniform) random allocation of the 20 users to the 4 grants.\n",
    "3. For each trial, record the OptimalityGap for all 4 grants.\n",
    "4. Generate a histogram of all 80000 OptimalityGaps recorded during the trials. \n",
    "5. See if histogram is bimodal. \n",
    "\n",
    "---"
   ]
  },
  {
   "cell_type": "markdown",
   "metadata": {},
   "source": [
    "## <span style=\"color:blue\"> Important Assumptions </span>\n",
    "1. All user allocations are uniform (in actuality, closer to geometric distribution)\n",
    "2. The **opt_gap_helper.py** file works as intended. <span style=\"color:red\"> **This code has no test suite, no unit tests, and is currently unvalidated.** </span>"
   ]
  },
  {
   "cell_type": "markdown",
   "metadata": {},
   "source": [
    "### <span style=\"color:blue\"> Work </span>"
   ]
  },
  {
   "cell_type": "markdown",
   "metadata": {},
   "source": [
    "First we import code. "
   ]
  },
  {
   "cell_type": "code",
   "execution_count": 2,
   "metadata": {},
   "outputs": [],
   "source": [
    "from matrix_clr import *\n",
    "from opt_gap_helper import *\n",
    "import autograd.numpy as np"
   ]
  },
  {
   "cell_type": "markdown",
   "metadata": {},
   "source": [
    "Set parameters for experiment."
   ]
  },
  {
   "cell_type": "code",
   "execution_count": 3,
   "metadata": {},
   "outputs": [],
   "source": [
    "N_USERS = 50\n",
    "K_GRANTS = 10\n",
    "TOT_FUNDS = 1.0 #total budget available to all users"
   ]
  },
  {
   "cell_type": "markdown",
   "metadata": {},
   "source": [
    "We need a trust matrix for the calculations; we will assume all users have equal trust. "
   ]
  },
  {
   "cell_type": "code",
   "execution_count": 4,
   "metadata": {},
   "outputs": [],
   "source": [
    "TRUST_MATRIX = np.ones((N_USERS,N_USERS)) # all users have equal trust\n",
    "NUM_TRIALS = 1000"
   ]
  },
  {
   "cell_type": "markdown",
   "metadata": {},
   "source": [
    "Now we calculate the distribution of the Optimality Gaps. "
   ]
  },
  {
   "cell_type": "code",
   "execution_count": 5,
   "metadata": {},
   "outputs": [
    {
     "name": "stdout",
     "output_type": "stream",
     "text": [
      "CPU times: user 34min 36s, sys: 10.6 s, total: 34min 46s\n",
      "Wall time: 35min 24s\n"
     ]
    }
   ],
   "source": [
    "%%time \n",
    "\n",
    "opt_gap_dist = opt_gap_experiment(N_USERS, K_GRANTS,\n",
    "                                 TOT_FUNDS, TRUST_MATRIX,\n",
    "                                 NUM_TRIALS)"
   ]
  },
  {
   "cell_type": "markdown",
   "metadata": {},
   "source": [
    "** Check: Is distribution bimodal?** "
   ]
  },
  {
   "cell_type": "code",
   "execution_count": 6,
   "metadata": {},
   "outputs": [],
   "source": [
    "import seaborn as sns"
   ]
  },
  {
   "cell_type": "code",
   "execution_count": 7,
   "metadata": {},
   "outputs": [
    {
     "name": "stderr",
     "output_type": "stream",
     "text": [
      "/opt/anaconda3/lib/python3.8/site-packages/seaborn/distributions.py:2551: FutureWarning: `distplot` is a deprecated function and will be removed in a future version. Please adapt your code to use either `displot` (a figure-level function with similar flexibility) or `histplot` (an axes-level function for histograms).\n",
      "  warnings.warn(msg, FutureWarning)\n"
     ]
    },
    {
     "data": {
      "text/plain": [
       "<AxesSubplot:ylabel='Density'>"
      ]
     },
     "execution_count": 7,
     "metadata": {},
     "output_type": "execute_result"
    },
    {
     "data": {
      "image/png": "[encoded data removed]",
      "text/plain": [
       "<Figure size 432x288 with 1 Axes>"
      ]
     },
     "metadata": {
      "needs_background": "light"
     },
     "output_type": "display_data"
    }
   ],
   "source": [
    "sns.distplot(opt_gap_dist.flatten())"
   ]
  },
  {
   "cell_type": "markdown",
   "metadata": {},
   "source": [
    "## <span style=\"color:blue\"> Conclusions: What did we learn? </span>\n",
    "\n",
    "* Under the assumption of uniformly random allocations, the distribution of the OptimalityGap for 50 users and 10 grants appears to be normally distributed. This experiment did not provide evidence that supports the bimodal conjecture. \n",
    "\n",
    "* This experiment took 35 minutes. "
   ]
  },
  {
   "cell_type": "markdown",
   "metadata": {},
   "source": [
    "---\n",
    "\n",
    "## <span style=\"color:red\"> Potential Issues </span>\n",
    "\n",
    "1. Number of users, grants, and trials is still relatively small.\n",
    "2. The **opt_gap_helper.py** file has no test suite, no unit tests, and has not been validated.\n",
    "3. We need to be careful generating random elements where we don't control the seed.\n",
    "4. The assumption of uniform distribution is extremely unrealistic compared to actual data. In the future, let's experiment with different distributions (particularly geometric). \n",
    "\n",
    "---\n",
    "\n"
   ]
  },
  {
   "cell_type": "markdown",
   "metadata": {},
   "source": [
    "## <span style=\"color:blue\"> Conjectures and Future Questions </span>\n",
    "\n",
    "1. Investigate for different numbers of users, grants and trials.\n",
    "2. Validate the **opt_gap_helper** code.\n",
    "3. Investigate for different distributions.\n",
    "4. The optimality gap distribution will be symmetric under any symmetric distribution, since the pairwise qf function has symmetry. \n",
    "\n",
    "---\n",
    "\n"
   ]
  }
 ],
 "metadata": {
  "kernelspec": {
   "display_name": "Python 3",
   "language": "python",
   "name": "python3"
  },
  "language_info": {
   "codemirror_mode": {
    "name": "ipython",
    "version": 3
   },
   "file_extension": ".py",
   "mimetype": "text/x-python",
   "name": "python",
   "nbconvert_exporter": "python",
   "pygments_lexer": "ipython3",
   "version": "3.7.3"
  }
 },
 "nbformat": 4,
 "nbformat_minor": 4
}
